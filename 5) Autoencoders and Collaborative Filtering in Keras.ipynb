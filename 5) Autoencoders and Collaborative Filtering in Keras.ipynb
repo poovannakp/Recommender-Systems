{
 "cells": [
  {
   "cell_type": "markdown",
   "metadata": {},
   "source": [
    "<h1 align=\"center\">Autoencoders and Collaborative Filtering in Keras</h1>"
   ]
  },
  {
   "cell_type": "markdown",
   "metadata": {},
   "source": [
    "## Import Libraries"
   ]
  },
  {
   "cell_type": "code",
   "execution_count": 19,
   "metadata": {},
   "outputs": [],
   "source": [
    "import pickle\n",
    "import numpy as np\n",
    "import pandas as pd\n",
    "from collections import defaultdict\n",
    "import scipy.sparse as sps\n",
    "from sklearn.utils import shuffle\n",
    "from builtins import range\n",
    "\n",
    "from scipy.sparse import save_npz, load_npz\n",
    "\n",
    "import keras.backend as K\n",
    "from keras.models import Model\n",
    "from keras.layers import Input, Dropout, Dense\n",
    "from keras.regularizers import l2\n",
    "from keras.optimizers import SGD\n",
    "import matplotlib.pyplot as plt\n",
    "%matplotlib inline\n",
    "\n",
    "FILE_PATH = \"./data/Movielens/\""
   ]
  },
  {
   "cell_type": "markdown",
   "metadata": {},
   "source": [
    "## Load the data"
   ]
  },
  {
   "cell_type": "code",
   "execution_count": 5,
   "metadata": {},
   "outputs": [],
   "source": [
    "## user_to_item_map={}  ## Key:= User_id, Value:= [list of items] \n",
    "## item_to_user_map={}  ## Key:= item_id, Value:=[list of users] \n",
    "## train_ratings={}      ## Key:= (User_id, item_id) Value:=Rating \n",
    "## test_ratings={}       ## Key:= (User_id, item_id) Value:=Rating \n",
    "\n",
    "with open(FILE_PATH+'user_to_item_map.pkl', 'rb') as fp:\n",
    "    user_to_item_map=pickle.load(fp)\n",
    "\n",
    "with open(FILE_PATH+'item_to_user_map.pkl', 'rb') as fp:\n",
    "    item_to_user_map=pickle.load(fp)\n",
    "\n",
    "with open(FILE_PATH+'train_ratings.pkl', 'rb') as fp:\n",
    "    train_ratings=pickle.load(fp)\n",
    "\n",
    "with open(FILE_PATH+'test_ratings.pkl', 'rb') as fp:\n",
    "    test_ratings=pickle.load(fp)"
   ]
  },
  {
   "cell_type": "markdown",
   "metadata": {},
   "source": [
    "## Preprocessing"
   ]
  },
  {
   "cell_type": "code",
   "execution_count": 6,
   "metadata": {},
   "outputs": [],
   "source": [
    "## Transforming data to sparse matices\n",
    "n_users=len(user_to_item_map)\n",
    "n_items=len(item_to_user_map)\n",
    "\n",
    "train_matrix=sps.lil_matrix((n_users,n_items))\n",
    "test_matrix=sps.lil_matrix((n_users,n_items))\n",
    "\n",
    "for (user,item),rating in train_ratings.items():\n",
    "    train_matrix[user,item]=rating\n",
    "    \n",
    "for (user,item),rating in test_ratings.items():\n",
    "    test_matrix[user,item]=rating\n",
    "\n",
    "train_mask=(train_matrix>0)*1.0\n",
    "test_mask=(test_matrix>0)*1.0"
   ]
  },
  {
   "cell_type": "code",
   "execution_count": 7,
   "metadata": {},
   "outputs": [],
   "source": [
    "## Keeping a copy of the originals to deal with shuffle\n",
    "train_matrix1=train_matrix.copy()\n",
    "test_matrix1=test_matrix.copy()\n",
    "train_mask1=train_mask.copy()\n",
    "test_mask1=test_mask.copy()"
   ]
  },
  {
   "cell_type": "code",
   "execution_count": 8,
   "metadata": {},
   "outputs": [],
   "source": [
    "mean=train_matrix.sum()/train_mask.sum()"
   ]
  },
  {
   "cell_type": "code",
   "execution_count": 9,
   "metadata": {
    "code_folding": []
   },
   "outputs": [],
   "source": [
    "## Defining the loss function\n",
    "def loss(y_true, y_pred):\n",
    "    mask = K.cast(K.not_equal(y_true, 0), dtype='float32')\n",
    "    diff = y_pred - y_true\n",
    "    sqdiff = diff * diff * mask\n",
    "    sse = K.sum(K.sum(sqdiff))\n",
    "    n = K.sum(K.sum(mask))\n",
    "    return sse / n"
   ]
  },
  {
   "cell_type": "code",
   "execution_count": 10,
   "metadata": {},
   "outputs": [],
   "source": [
    "def train_generator(matrix, mask, batch_size):\n",
    "    while True:\n",
    "        matrix, mask = shuffle(matrix, mask)\n",
    "        for i in range(matrix.shape[0]// batch_size + 1):    ## batch_size + 1\n",
    "            upper = min((i+1)*batch_size, matrix.shape[0])\n",
    "            a = matrix[i*batch_size:upper].toarray()\n",
    "            m = mask[i*batch_size:upper].toarray()\n",
    "            a = a - mean * m # must keep zeros at zero!\n",
    "            \n",
    "            # m2 = (np.random.random(a.shape) > 0.5)\n",
    "            # noisy = a * m2\n",
    "            noisy = a # no noise\n",
    "            yield noisy, a\n",
    "\n",
    "\n",
    "def test_generator(matrix, mask, matrix_test, mask_test, batch_size):\n",
    "    while True:\n",
    "        for i in range(matrix.shape[0]// batch_size + 1):  ## batch_size + 1\n",
    "            upper = min((i+1)*batch_size, matrix.shape[0])\n",
    "            a = matrix[i*batch_size:upper].toarray()\n",
    "            m = mask[i*batch_size:upper].toarray()\n",
    "            at = matrix_test[i*batch_size:upper].toarray()\n",
    "            mt = mask_test[i*batch_size:upper].toarray()\n",
    "            a = a - mean * m\n",
    "            at = at - mean * mt\n",
    "            yield a, at"
   ]
  },
  {
   "cell_type": "markdown",
   "metadata": {},
   "source": [
    "## Autoencoder Model"
   ]
  },
  {
   "cell_type": "code",
   "execution_count": 27,
   "metadata": {},
   "outputs": [],
   "source": [
    "def get_model():\n",
    "    i = Input(shape=(n_items,))\n",
    "    x = Dropout(0.7)(i)\n",
    "    x = Dense(100, activation='tanh')(x)\n",
    "    x = Dense(n_items)(x)\n",
    "    model = Model(inputs=i, outputs=x)\n",
    "    return model\n",
    "model=get_model()\n",
    "model.compile( loss=loss, optimizer='adam',metrics=[loss])"
   ]
  },
  {
   "cell_type": "code",
   "execution_count": 28,
   "metadata": {},
   "outputs": [
    {
     "data": {
      "image/png": "[encoded data removed]",
      "text/plain": [
       "<matplotlib.figure.Figure at 0x78b7290fd0>"
      ]
     },
     "metadata": {
      "needs_background": "light"
     },
     "output_type": "display_data"
    }
   ],
   "source": [
    "batch_size=1024\n",
    "epochs=50\n",
    "\n",
    "history = model.fit_generator( train_generator(train_matrix, train_mask, batch_size), \n",
    "                        validation_data=test_generator(train_matrix1, train_mask1, test_matrix1, test_mask1,batch_size),\n",
    "                        epochs=epochs, steps_per_epoch=train_matrix.shape[0]// batch_size + 1,\n",
    "                        validation_steps=test_matrix.shape[0]// batch_size + 1,verbose=0)\n",
    "\n",
    "plt.plot(history.history['loss'])\n",
    "plt.plot(history.history['val_loss'])\n",
    "plt.ylabel('Mean Squared Error')\n",
    "plt.xlabel('Epoch')\n",
    "plt.legend(['train','test'], loc='upper right')\n",
    "plt.show()"
   ]
  }
 ],
 "metadata": {
  "kernelspec": {
   "display_name": "Python 3",
   "language": "python",
   "name": "python3"
  },
  "language_info": {
   "codemirror_mode": {
    "name": "ipython",
    "version": 3
   },
   "file_extension": ".py",
   "mimetype": "text/x-python",
   "name": "python",
   "nbconvert_exporter": "python",
   "pygments_lexer": "ipython3",
   "version": "3.5.2"
  },
  "toc": {
   "base_numbering": 1,
   "nav_menu": {},
   "number_sections": true,
   "sideBar": true,
   "skip_h1_title": true,
   "title_cell": "Table of Contents",
   "title_sidebar": "Contents",
   "toc_cell": false,
   "toc_position": {},
   "toc_section_display": true,
   "toc_window_display": true
  }
 },
 "nbformat": 4,
 "nbformat_minor": 2
}
