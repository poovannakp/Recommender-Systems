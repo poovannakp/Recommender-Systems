{
 "cells": [
  {
   "cell_type": "markdown",
   "metadata": {},
   "source": [
    "<h1 align=\"center\">Matrix Factorization - Alternating Least Squares in Python</h1>"
   ]
  },
  {
   "cell_type": "markdown",
   "metadata": {},
   "source": [
    "ALS is Matrix Factorization Algorithm. Matrix Factorization decomposes a large matrix into products of matrices.<br>\n",
    "<br>\n",
    "R = U * V<br>\n",
    "<br>\n",
    "For example in recommendation systems, let us consider R as a matrix of User (Rows) and Ratings (Columns). Matrix factorization will allow us to discover the latent features that define the interactions between User and Ratings. In other words, ALS uncovers the latent features.<br>"
   ]
  },
  {
   "cell_type": "markdown",
   "metadata": {
    "toc": true
   },
   "source": [
    "<h1>Contents<span class=\"tocSkip\"></span></h1>\n",
    "<div class=\"toc\"><ul class=\"toc-item\"><li><span><a href=\"#Imports\" data-toc-modified-id=\"Imports-1\"><span class=\"toc-item-num\">1&nbsp;&nbsp;</span>Imports</a></span></li><li><span><a href=\"#Load-the-data\" data-toc-modified-id=\"Load-the-data-2\"><span class=\"toc-item-num\">2&nbsp;&nbsp;</span>Load the data</a></span></li><li><span><a href=\"#Data-Exploration\" data-toc-modified-id=\"Data-Exploration-3\"><span class=\"toc-item-num\">3&nbsp;&nbsp;</span>Data Exploration</a></span></li><li><span><a href=\"#Alternating-Least-Squares\" data-toc-modified-id=\"Alternating-Least-Squares-4\"><span class=\"toc-item-num\">4&nbsp;&nbsp;</span>Alternating Least Squares</a></span></li><li><span><a href=\"#Results\" data-toc-modified-id=\"Results-5\"><span class=\"toc-item-num\">5&nbsp;&nbsp;</span>Results</a></span></li><li><span><a href=\"#References\" data-toc-modified-id=\"References-6\"><span class=\"toc-item-num\">6&nbsp;&nbsp;</span>References</a></span></li></ul></div>"
   ]
  },
  {
   "cell_type": "markdown",
   "metadata": {},
   "source": [
    "## Imports"
   ]
  },
  {
   "cell_type": "code",
   "execution_count": 1,
   "metadata": {},
   "outputs": [],
   "source": [
    "import pickle\n",
    "import numpy as np\n",
    "import pandas as pd\n",
    "from collections import defaultdict"
   ]
  },
  {
   "cell_type": "markdown",
   "metadata": {},
   "source": [
    "## Load the data\n",
    "Original Dataset - https://www.kaggle.com/grouplens/movielens-20m-dataset<br>\n",
    "The original dataset has been proprocessed to filter out and keep only the top users movies.<br>\n",
    "Please refer to the preprocessing notebook in the repo for more details."
   ]
  },
  {
   "cell_type": "code",
   "execution_count": 2,
   "metadata": {},
   "outputs": [],
   "source": [
    "## user_to_movie_map={}  ## Key:= User_id, Value:= [list of movies] \n",
    "## movie_to_user_map={}  ## Key:= Movie_id, Value:=[list of users] \n",
    "## train_ratings={}      ## Key:= (User_id, Movie_id) Value:=Rating \n",
    "## test_ratings={}       ## Key:= (User_id, Movie_id) Value:=Rating \n",
    "\n",
    "with open('./data/user_to_movie_map.pkl', 'rb') as fp:\n",
    "    user_to_movie_map=pickle.load(fp)\n",
    "\n",
    "with open('./data/movie_to_user_map.pkl', 'rb') as fp:\n",
    "    movie_to_user_map=pickle.load(fp)\n",
    "\n",
    "with open('./data/train_ratings.pkl', 'rb') as fp:\n",
    "    train_ratings=pickle.load(fp)\n",
    "\n",
    "with open('./data/test_ratings.pkl', 'rb') as fp:\n",
    "    test_ratings=pickle.load(fp)\n",
    "\n",
    "with open('./data/user_statistics.pkl', 'rb') as fp:\n",
    "    user_statistics=pickle.load(fp)\n",
    "    \n",
    "with open('./data/movie_statistics.pkl', 'rb') as fp:\n",
    "    movie_statistics=pickle.load(fp)"
   ]
  },
  {
   "cell_type": "markdown",
   "metadata": {},
   "source": [
    "## Data Exploration"
   ]
  },
  {
   "cell_type": "code",
   "execution_count": 3,
   "metadata": {},
   "outputs": [
    {
     "name": "stdout",
     "output_type": "stream",
     "text": [
      "Number of unique users: 300\n",
      "Number of unique movies: 800\n",
      "Total ratings in the dataset: 179576\n",
      "User-Item matrix size: 240000\n",
      "User-Item matrix empty percentage: 25.176666666666666\n"
     ]
    }
   ],
   "source": [
    "N_USERS=len(user_to_movie_map)\n",
    "N_MOVIES=len(movie_to_user_map)\n",
    "user_ids=range(N_USERS)\n",
    "movie_ids=range(N_MOVIES)\n",
    "matrix_size=N_USERS*N_MOVIES\n",
    "N_RATINGS=len(train_ratings)+len(test_ratings)\n",
    "\n",
    "print(\"Number of unique users:\",N_USERS)\n",
    "print(\"Number of unique movies:\",N_MOVIES)\n",
    "print(\"Total ratings in the dataset:\",N_RATINGS)\n",
    "\n",
    "print(\"User-Item matrix size:\",matrix_size)\n",
    "print(\"User-Item matrix empty percentage:\",(matrix_size-N_RATINGS)*100/(matrix_size))"
   ]
  },
  {
   "cell_type": "markdown",
   "metadata": {},
   "source": [
    "## Alternating Least Squares"
   ]
  },
  {
   "cell_type": "code",
   "execution_count": 4,
   "metadata": {},
   "outputs": [],
   "source": [
    "LF=10  ## No. of latent factors\n",
    "parameter=0.01\n",
    "iterations=5"
   ]
  },
  {
   "cell_type": "code",
   "execution_count": 5,
   "metadata": {},
   "outputs": [
    {
     "name": "stdout",
     "output_type": "stream",
     "text": [
      "Length of user and movie weight vectors:  10\n",
      "Mean rating of the train data:  3.4642578478772763\n"
     ]
    }
   ],
   "source": [
    "n=LF\n",
    "user_weights={}\n",
    "movie_weights={}\n",
    "\n",
    "for user in user_ids:\n",
    "    user_weights[user]=np.random.rand(n)\n",
    "    \n",
    "for movie in movie_ids:\n",
    "    movie_weights[movie]=np.random.rand(n)\n",
    "\n",
    "user_bias=defaultdict(int)\n",
    "movie_bias=defaultdict(int)\n",
    "\n",
    "mean=np.mean(list(train_ratings.values()))\n",
    "\n",
    "print(\"Length of user and movie weight vectors: \",LF)\n",
    "print(\"Mean rating of the train data: \",mean)"
   ]
  },
  {
   "cell_type": "code",
   "execution_count": 6,
   "metadata": {},
   "outputs": [
    {
     "name": "stdout",
     "output_type": "stream",
     "text": [
      "Iteration: 0 .........\n",
      "Iteration: 1 .........\n",
      "Iteration: 2 .........\n",
      "Iteration: 3 .........\n",
      "Iteration: 4 .........\n"
     ]
    }
   ],
   "source": [
    "for i in range(iterations):\n",
    "    print(\"Iteration: {} .........\".format(i))\n",
    "    for user in user_ids:\n",
    "        A=np.zeros([n,n])\n",
    "        b=np.zeros([1,n])\n",
    "        #if user not in user_to_movie_map: continue\n",
    "        for movie in user_to_movie_map[user]:\n",
    "            A+=np.outer(movie_weights[movie],movie_weights[movie].T)+parameter*(np.eye(n))\n",
    "            b+=(train_ratings[(user,movie)]-movie_bias[movie]-user_bias[user]-mean)*movie_weights[movie]\n",
    "\n",
    "        user_weights[user]=np.linalg.solve(A,b.T).T\n",
    "\n",
    "    for movie in movie_ids:\n",
    "        A=np.zeros([n,n])\n",
    "        b=np.zeros([1,n])\n",
    "        #if movie not in movie_to_user_map: continue\n",
    "        for user in movie_to_user_map[movie]:\n",
    "            A+=np.outer(user_weights[user],user_weights[user].T)+parameter*(np.eye(n))\n",
    "            b+=(train_ratings[(user,movie)]-movie_bias[movie]-user_bias[user]-mean)*user_weights[user]\n",
    "        movie_weights[movie]=np.linalg.solve(A,b.T).T\n",
    "        \n",
    "    for user in user_ids:\n",
    "        mlen=len(user_to_movie_map[user])\n",
    "        movie_bias[movie]=0\n",
    "        for movie in user_to_movie_map[user]:\n",
    "            movie_bias[movie]=(1.0/(mlen+parameter))*(train_ratings[(user,movie)]-np.dot(user_weights[user],movie_weights[movie].T)-user_bias[user]-mean)[0]\n",
    "    \n",
    "    for movie in movie_ids:\n",
    "        ulen=len(movie_to_user_map[movie])\n",
    "        user_bias[user]=0\n",
    "        for user in movie_to_user_map[movie]:\n",
    "            user_bias[user]=(1.0/(ulen+parameter))*(train_ratings[(user,movie)]-np.dot(user_weights[user],movie_weights[movie].T)-movie_bias[movie]-mean)[0]\n",
    "            "
   ]
  },
  {
   "cell_type": "code",
   "execution_count": 7,
   "metadata": {},
   "outputs": [],
   "source": [
    "def calculate_MSE(dataset):\n",
    "    errors=[]\n",
    "    for (user,movie),rating in dataset.items():\n",
    "        #if user in user_weights and movie in movie_weights:\n",
    "        pred=np.dot(user_weights[user],movie_weights[movie].T)[0][0]+movie_bias[movie]+user_bias[user]+mean\n",
    "        errors.append((pred-rating)**2)\n",
    "\n",
    "    return np.mean(errors)"
   ]
  },
  {
   "cell_type": "markdown",
   "metadata": {},
   "source": [
    "## Results"
   ]
  },
  {
   "cell_type": "code",
   "execution_count": 8,
   "metadata": {},
   "outputs": [
    {
     "name": "stdout",
     "output_type": "stream",
     "text": [
      "Train error:  0.46769026515703016\n",
      "Test error:  0.5784109762930091\n"
     ]
    }
   ],
   "source": [
    "print(\"Train error: \",calculate_MSE(train_ratings))\n",
    "print(\"Test error: \",calculate_MSE(test_ratings))"
   ]
  },
  {
   "cell_type": "markdown",
   "metadata": {},
   "source": [
    "## References"
   ]
  },
  {
   "cell_type": "markdown",
   "metadata": {},
   "source": [
    "1. https://en.wikipedia.org/wiki/Recommender_system <br>\n",
    "2. https://www.kaggle.com/grouplens/movielens-20m-dataset <br>\n",
    "3. https://www.udemy.com/recommender-systems/ <br>\n",
    "4. https://www.quora.com/What-is-the-Alternating-Least-Squares-method-in-recommendation-systems-And-why-does-this-algorithm-work-intuition-behind-this"
   ]
  }
 ],
 "metadata": {
  "kernelspec": {
   "display_name": "Python 3",
   "language": "python",
   "name": "python3"
  },
  "language_info": {
   "codemirror_mode": {
    "name": "ipython",
    "version": 3
   },
   "file_extension": ".py",
   "mimetype": "text/x-python",
   "name": "python",
   "nbconvert_exporter": "python",
   "pygments_lexer": "ipython3",
   "version": "3.5.2"
  },
  "toc": {
   "base_numbering": 1,
   "nav_menu": {},
   "number_sections": true,
   "sideBar": true,
   "skip_h1_title": true,
   "title_cell": "Contents",
   "title_sidebar": "Contents",
   "toc_cell": true,
   "toc_position": {},
   "toc_section_display": true,
   "toc_window_display": true
  }
 },
 "nbformat": 4,
 "nbformat_minor": 2
}
