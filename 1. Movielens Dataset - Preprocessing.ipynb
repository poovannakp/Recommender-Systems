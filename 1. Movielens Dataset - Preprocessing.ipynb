{
 "cells": [
  {
   "cell_type": "markdown",
   "metadata": {
    "toc": true
   },
   "source": [
    "<h1>Contents<span class=\"tocSkip\"></span></h1>\n",
    "<div class=\"toc\"><ul class=\"toc-item\"><li><span><a href=\"#Imports\" data-toc-modified-id=\"Imports-1\"><span class=\"toc-item-num\">1&nbsp;&nbsp;</span>Imports</a></span></li><li><span><a href=\"#Load-the-data\" data-toc-modified-id=\"Load-the-data-2\"><span class=\"toc-item-num\">2&nbsp;&nbsp;</span>Load the data</a></span></li><li><span><a href=\"#Data-exploration-/-preprocessing\" data-toc-modified-id=\"Data-exploration-/-preprocessing-3\"><span class=\"toc-item-num\">3&nbsp;&nbsp;</span>Data exploration / preprocessing</a></span><ul class=\"toc-item\"><li><span><a href=\"#Shrink-the-data\" data-toc-modified-id=\"Shrink-the-data-3.1\"><span class=\"toc-item-num\">3.1&nbsp;&nbsp;</span>Shrink the data</a></span></li><li><span><a href=\"#Filter-the-data-and-reassign-IDs\" data-toc-modified-id=\"Filter-the-data-and-reassign-IDs-3.2\"><span class=\"toc-item-num\">3.2&nbsp;&nbsp;</span>Filter the data and reassign IDs</a></span></li><li><span><a href=\"#Train-/-test-split\" data-toc-modified-id=\"Train-/-test-split-3.3\"><span class=\"toc-item-num\">3.3&nbsp;&nbsp;</span>Train / test split</a></span></li><li><span><a href=\"#Create-mappings\" data-toc-modified-id=\"Create-mappings-3.4\"><span class=\"toc-item-num\">3.4&nbsp;&nbsp;</span>Create mappings</a></span></li><li><span><a href=\"#Pre-compute-user-and-movie-statistics\" data-toc-modified-id=\"Pre-compute-user-and-movie-statistics-3.5\"><span class=\"toc-item-num\">3.5&nbsp;&nbsp;</span>Pre-compute user and movie statistics</a></span></li></ul></li><li><span><a href=\"#Save-to-file\" data-toc-modified-id=\"Save-to-file-4\"><span class=\"toc-item-num\">4&nbsp;&nbsp;</span>Save to file</a></span></li></ul></div>"
   ]
  },
  {
   "cell_type": "markdown",
   "metadata": {},
   "source": [
    "<h1 align=\"center\">Movielens - Data Preprocessing</h1>"
   ]
  },
  {
   "cell_type": "markdown",
   "metadata": {},
   "source": [
    "This notebook contains the code to preprocess the original Movielens dataset. We filter out a subset of the data and convert them to efficient, handy Python data structures which will be used in our further analysis. Finally, we save these preprocessed data in our file system to be used later for analysing recommendation algorithms.<br><br>\n",
    "Dataset - https://www.kaggle.com/grouplens/movielens-20m-dataset<br>"
   ]
  },
  {
   "cell_type": "markdown",
   "metadata": {},
   "source": [
    "## Imports"
   ]
  },
  {
   "cell_type": "code",
   "execution_count": 1,
   "metadata": {},
   "outputs": [],
   "source": [
    "import pickle\n",
    "import numpy as np\n",
    "import pandas as pd\n",
    "from collections import Counter\n",
    "from sklearn.model_selection import train_test_split\n",
    "%matplotlib inline"
   ]
  },
  {
   "cell_type": "markdown",
   "metadata": {},
   "source": [
    "## Load the data"
   ]
  },
  {
   "cell_type": "code",
   "execution_count": 2,
   "metadata": {},
   "outputs": [
    {
     "data": {
      "text/html": [
       "<div>\n",
       "<style>\n",
       "    .dataframe thead tr:only-child th {\n",
       "        text-align: right;\n",
       "    }\n",
       "\n",
       "    .dataframe thead th {\n",
       "        text-align: left;\n",
       "    }\n",
       "\n",
       "    .dataframe tbody tr th {\n",
       "        vertical-align: top;\n",
       "    }\n",
       "</style>\n",
       "<table border=\"1\" class=\"dataframe\">\n",
       "  <thead>\n",
       "    <tr style=\"text-align: right;\">\n",
       "      <th></th>\n",
       "      <th>userId</th>\n",
       "      <th>movieId</th>\n",
       "      <th>rating</th>\n",
       "      <th>timestamp</th>\n",
       "    </tr>\n",
       "  </thead>\n",
       "  <tbody>\n",
       "    <tr>\n",
       "      <th>0</th>\n",
       "      <td>1</td>\n",
       "      <td>2</td>\n",
       "      <td>3.5</td>\n",
       "      <td>2005-04-02 23:53:47</td>\n",
       "    </tr>\n",
       "    <tr>\n",
       "      <th>1</th>\n",
       "      <td>1</td>\n",
       "      <td>29</td>\n",
       "      <td>3.5</td>\n",
       "      <td>2005-04-02 23:31:16</td>\n",
       "    </tr>\n",
       "    <tr>\n",
       "      <th>2</th>\n",
       "      <td>1</td>\n",
       "      <td>32</td>\n",
       "      <td>3.5</td>\n",
       "      <td>2005-04-02 23:33:39</td>\n",
       "    </tr>\n",
       "    <tr>\n",
       "      <th>3</th>\n",
       "      <td>1</td>\n",
       "      <td>47</td>\n",
       "      <td>3.5</td>\n",
       "      <td>2005-04-02 23:32:07</td>\n",
       "    </tr>\n",
       "    <tr>\n",
       "      <th>4</th>\n",
       "      <td>1</td>\n",
       "      <td>50</td>\n",
       "      <td>3.5</td>\n",
       "      <td>2005-04-02 23:29:40</td>\n",
       "    </tr>\n",
       "  </tbody>\n",
       "</table>\n",
       "</div>"
      ],
      "text/plain": [
       "   userId  movieId  rating            timestamp\n",
       "0       1        2     3.5  2005-04-02 23:53:47\n",
       "1       1       29     3.5  2005-04-02 23:31:16\n",
       "2       1       32     3.5  2005-04-02 23:33:39\n",
       "3       1       47     3.5  2005-04-02 23:32:07\n",
       "4       1       50     3.5  2005-04-02 23:29:40"
      ]
     },
     "execution_count": 2,
     "metadata": {},
     "output_type": "execute_result"
    }
   ],
   "source": [
    "df=pd.read_csv(\"./data/rating.csv\")\n",
    "df.head(5)"
   ]
  },
  {
   "cell_type": "code",
   "execution_count": 3,
   "metadata": {},
   "outputs": [],
   "source": [
    "## We drop the timestamp column , since we don't need it.\n",
    "df.drop(labels='timestamp',axis=1,inplace=True)"
   ]
  },
  {
   "cell_type": "markdown",
   "metadata": {},
   "source": [
    "## Data exploration / preprocessing"
   ]
  },
  {
   "cell_type": "code",
   "execution_count": 4,
   "metadata": {
    "code_folding": []
   },
   "outputs": [
    {
     "name": "stdout",
     "output_type": "stream",
     "text": [
      "Number of unique users: 138493\n",
      "Number of unique movies: 26744\n",
      "Total ratings in the dataset: 20000263\n",
      "User-Movie matrix size: 3703856792\n",
      "User-Movie matrix empty percentage: 99.46001521864456\n"
     ]
    },
    {
     "data": {
      "image/png": "[encoded data removed]",
      "text/plain": [
       "<matplotlib.figure.Figure at 0x9b10ade390>"
      ]
     },
     "metadata": {
      "needs_background": "light"
     },
     "output_type": "display_data"
    }
   ],
   "source": [
    "n_users=df['userId'].nunique()\n",
    "n_movies=df['movieId'].nunique()\n",
    "matrix_size=n_users*n_movies\n",
    "n_ratings=df.shape[0]\n",
    "\n",
    "print(\"Number of unique users:\",n_users)\n",
    "print(\"Number of unique movies:\",n_movies)\n",
    "print(\"Total ratings in the dataset:\",n_ratings)\n",
    "\n",
    "print(\"User-Movie matrix size:\",matrix_size)\n",
    "print(\"User-Movie matrix empty percentage:\",(matrix_size-n_ratings)*100/(matrix_size))\n",
    "\n",
    "ratings=df['rating'].value_counts().sort_index(ascending=False)\n",
    "rating_dist=ratings.plot.bar(title=\"Distribution of ratings\")"
   ]
  },
  {
   "cell_type": "markdown",
   "metadata": {},
   "source": [
    "### Shrink the data\n",
    "Since the number of users and movies are quite large, we only consider a subset of the original data. Below, we find the top users (the users who have rated the most movies) and the top movies (the movies that have the most ratings)."
   ]
  },
  {
   "cell_type": "code",
   "execution_count": 5,
   "metadata": {},
   "outputs": [
    {
     "name": "stdout",
     "output_type": "stream",
     "text": [
      "Top 5 users ids and their counts: [(118205, 9254), (8405, 7515), (82418, 5646), (121535, 5520), (125794, 5491)]\n",
      "Top 5 movies ids and their counts: [(296, 67310), (356, 66172), (318, 63366), (593, 63299), (480, 59715)]\n"
     ]
    }
   ],
   "source": [
    "n_top_users=300\n",
    "n_top_movies=800\n",
    "\n",
    "users_counter=Counter(df['userId'])\n",
    "movies_counter=Counter(df['movieId'])\n",
    "\n",
    "top_users=users_counter.most_common(n_top_users)\n",
    "top_movies=movies_counter.most_common(n_top_movies)\n",
    "\n",
    "top_user_ids=[user_id for user_id,count in top_users ]\n",
    "top_movie_ids=[movie_id for movie_id,count in top_movies ]\n",
    "\n",
    "print(\"Top 5 users ids and their counts:\",top_users[:5])\n",
    "print(\"Top 5 movies ids and their counts:\",top_movies[:5])"
   ]
  },
  {
   "cell_type": "markdown",
   "metadata": {},
   "source": [
    "### Filter the data and reassign IDs\n",
    "Filter out the rows that have top users and top movies<br>\n",
    "Replace old user ids and movie ids with new ids ranging to 0 to their respective lengths."
   ]
  },
  {
   "cell_type": "code",
   "execution_count": 6,
   "metadata": {},
   "outputs": [],
   "source": [
    "userid_map_old_to_new=dict([(old,new) for new,old in enumerate(top_user_ids)])\n",
    "userid_map_new_to_old=dict([(new,old) for new,old in enumerate(top_user_ids)])\n",
    "movieid_map_old_to_new=dict([(old,new) for new,old in enumerate(top_movie_ids)])\n",
    "movieid_map_new_to_old=dict([(new,old) for new,old in enumerate(top_movie_ids)])"
   ]
  },
  {
   "cell_type": "code",
   "execution_count": 7,
   "metadata": {},
   "outputs": [],
   "source": [
    "## Filter out the rows that have top users and top movies\n",
    "df= df.loc[ df['userId'].isin(userid_map_old_to_new) & df['movieId'].isin(movieid_map_old_to_new) ]"
   ]
  },
  {
   "cell_type": "code",
   "execution_count": 8,
   "metadata": {},
   "outputs": [],
   "source": [
    "## Replace old_ids with new_ids\n",
    "df['userId']=df['userId'].apply(lambda x: userid_map_old_to_new[x])\n",
    "df['movieId']=df['movieId'].apply(lambda x: movieid_map_old_to_new[x])"
   ]
  },
  {
   "cell_type": "code",
   "execution_count": 9,
   "metadata": {},
   "outputs": [
    {
     "name": "stdout",
     "output_type": "stream",
     "text": [
      "Number of unique users: 300\n",
      "Number of unique movies: 800\n",
      "Total ratings in the dataset: 179576\n",
      "User-Movie matrix size: 240000\n",
      "User-Movie matrix empty percentage: 25.176666666666666\n"
     ]
    },
    {
     "data": {
      "image/png": "[encoded data removed]",
      "text/plain": [
       "<matplotlib.figure.Figure at 0x9b10b58080>"
      ]
     },
     "metadata": {
      "needs_background": "light"
     },
     "output_type": "display_data"
    }
   ],
   "source": [
    "n_users=df['userId'].nunique()\n",
    "n_movies=df['movieId'].nunique()\n",
    "matrix_size=n_users*n_movies\n",
    "n_ratings=df.shape[0]\n",
    "\n",
    "print(\"Number of unique users:\",n_users)\n",
    "print(\"Number of unique movies:\",n_movies)\n",
    "print(\"Total ratings in the dataset:\",n_ratings)\n",
    "\n",
    "print(\"User-Movie matrix size:\",matrix_size)\n",
    "print(\"User-Movie matrix empty percentage:\",(matrix_size-n_ratings)*100/(matrix_size))\n",
    "\n",
    "ratings=df['rating'].value_counts().sort_index(ascending=False)\n",
    "rating_dist=ratings.plot.bar(title=\"Distribution of ratings\")"
   ]
  },
  {
   "cell_type": "markdown",
   "metadata": {},
   "source": [
    "### Train / test split\n",
    "The train and test dataset should be set up such that for every user and movie in test there should be atleast one rating in train."
   ]
  },
  {
   "cell_type": "code",
   "execution_count": null,
   "metadata": {},
   "outputs": [],
   "source": [
    "TEST_SIZE=0.2"
   ]
  },
  {
   "cell_type": "code",
   "execution_count": 10,
   "metadata": {},
   "outputs": [],
   "source": [
    "## Split into train and test. Every user_id must be split proportionally\n",
    "train_frames=[]\n",
    "test_frames=[]\n",
    "for user_id,frame in df.groupby(by='userId'):\n",
    "    if frame.shape[0]<10: continue\n",
    "    train, test = train_test_split(frame, test_size=TEST_SIZE)\n",
    "    train_frames.append(pd.DataFrame(train))\n",
    "    test_frames.append(pd.DataFrame(test))\n",
    "    \n",
    "train=pd.concat(train_frames)\n",
    "test=pd.concat(test_frames)"
   ]
  },
  {
   "cell_type": "markdown",
   "metadata": {},
   "source": [
    "### Create mappings"
   ]
  },
  {
   "cell_type": "code",
   "execution_count": 11,
   "metadata": {},
   "outputs": [],
   "source": [
    "user_to_movie_map={}  ## Key:= User_id, Value:= [list of movies]\n",
    "movie_to_user_map={}  ## Key:= Movie_id, Value:=[list of users]\n",
    "train_ratings={}      ## Key:= (User_id,Movie_id). Value:=Rating\n",
    "test_ratings={}       ## Key:= (User_id,Movie_id). Value:=Rating\n",
    "\n",
    "def update_train_maps(row):\n",
    "    user=row.userId\n",
    "    movie=row.movieId\n",
    "\n",
    "    if user not in user_to_movie_map: \n",
    "        user_to_movie_map[user]=set()\n",
    "        \n",
    "    user_to_movie_map[user].add(movie)\n",
    "    \n",
    "    if movie not in movie_to_user_map: \n",
    "        movie_to_user_map[movie]=set()\n",
    "        \n",
    "    movie_to_user_map[movie].add(user)\n",
    "    \n",
    "    train_ratings[(user,movie)]=row.rating\n",
    "\n",
    "def update_test_maps(row):\n",
    "    user=row.userId\n",
    "    movie=row.movieId\n",
    "    test_ratings[(user,movie)]=row.rating\n",
    "    \n",
    "_=train.apply(lambda row: update_train_maps(row),axis=1)\n",
    "_=test.apply(lambda row: update_test_maps(row),axis=1)"
   ]
  },
  {
   "cell_type": "markdown",
   "metadata": {},
   "source": [
    "### Pre-compute user and movie statistics"
   ]
  },
  {
   "cell_type": "code",
   "execution_count": 12,
   "metadata": {},
   "outputs": [],
   "source": [
    "## Key:=User_id, Values:=(Avg_rating, Norm_of_deviations) - Used in Collaborative Filtering\n",
    "user_statistics={}\n",
    "for user in range(n_top_users):\n",
    "    items=user_to_movie_map[user]\n",
    "    ratings=np.array([train_ratings[(user,m)] for m in items])\n",
    "    mean=np.mean(ratings)\n",
    "    norm=np.linalg.norm(ratings-mean)\n",
    "    user_statistics[user]=(mean,norm)\n",
    "\n",
    "## Key:=Movie_id, Values:=(Avg_rating, Norm_of_deviations) - Used in Collaborative Filtering\n",
    "movie_statistics={}\n",
    "for movie in range(n_top_movies):\n",
    "    users=movie_to_user_map[movie]\n",
    "    ratings=np.array([train_ratings[(u,movie)] for u in users])\n",
    "    mean=np.mean(ratings)\n",
    "    norm=np.linalg.norm(ratings-mean)\n",
    "    movie_statistics[movie]=(mean,norm)"
   ]
  },
  {
   "cell_type": "code",
   "execution_count": 13,
   "metadata": {},
   "outputs": [
    {
     "name": "stdout",
     "output_type": "stream",
     "text": [
      "Length of user_to_movie_map: 300\n",
      "Length of movie_to_user_map: 800\n",
      "Length of ratings_train: 143542\n",
      "Length of ratings_test: 36034\n",
      "Length of user_statistics: 143542\n",
      "Length of movie_statistics: 36034\n"
     ]
    }
   ],
   "source": [
    "print(\"Length of user_to_movie_map:\",len(user_to_movie_map))\n",
    "print(\"Length of movie_to_user_map:\",len(movie_to_user_map))\n",
    "print(\"Length of ratings_train:\",len(train_ratings))\n",
    "print(\"Length of ratings_test:\",len(test_ratings))\n",
    "print(\"Length of user_statistics:\",len(train_ratings))\n",
    "print(\"Length of movie_statistics:\",len(test_ratings))"
   ]
  },
  {
   "cell_type": "markdown",
   "metadata": {},
   "source": [
    "## Save to file"
   ]
  },
  {
   "cell_type": "code",
   "execution_count": 14,
   "metadata": {},
   "outputs": [],
   "source": [
    "with open('./data/user_to_movie_map.pkl', 'wb') as fp:\n",
    "    pickle.dump(user_to_movie_map, fp)\n",
    "\n",
    "with open('./data/movie_to_user_map.pkl', 'wb') as fp:\n",
    "    pickle.dump(movie_to_user_map, fp)\n",
    "\n",
    "with open('./data/train_ratings.pkl', 'wb') as fp:\n",
    "    pickle.dump(train_ratings, fp)\n",
    "\n",
    "with open('./data/test_ratings.pkl', 'wb') as fp:\n",
    "    pickle.dump(test_ratings, fp)\n",
    "\n",
    "with open('./data/user_statistics.pkl', 'wb') as fp:\n",
    "    pickle.dump(user_statistics, fp)\n",
    "    \n",
    "with open('./data/movie_statistics.pkl', 'wb') as fp:\n",
    "    pickle.dump(movie_statistics, fp)"
   ]
  }
 ],
 "metadata": {
  "kernelspec": {
   "display_name": "Python 3",
   "language": "python",
   "name": "python3"
  },
  "language_info": {
   "codemirror_mode": {
    "name": "ipython",
    "version": 3
   },
   "file_extension": ".py",
   "mimetype": "text/x-python",
   "name": "python",
   "nbconvert_exporter": "python",
   "pygments_lexer": "ipython3",
   "version": "3.5.2"
  },
  "toc": {
   "base_numbering": 1,
   "nav_menu": {},
   "number_sections": true,
   "sideBar": true,
   "skip_h1_title": true,
   "title_cell": "Contents",
   "title_sidebar": "Contents",
   "toc_cell": true,
   "toc_position": {},
   "toc_section_display": true,
   "toc_window_display": true
  }
 },
 "nbformat": 4,
 "nbformat_minor": 2
}
