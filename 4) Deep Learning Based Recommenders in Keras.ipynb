{
 "cells": [
  {
   "cell_type": "markdown",
   "metadata": {},
   "source": [
    "<h1 align=\"center\">Deep Learning Based Recommenders in Keras</h1>"
   ]
  },
  {
   "cell_type": "markdown",
   "metadata": {},
   "source": [
    "## Import Libraries"
   ]
  },
  {
   "cell_type": "code",
   "execution_count": 1,
   "metadata": {},
   "outputs": [
    {
     "name": "stderr",
     "output_type": "stream",
     "text": [
      "Using TensorFlow backend.\n"
     ]
    }
   ],
   "source": [
    "import numpy as np\n",
    "import pandas as pd\n",
    "from keras.models import Model\n",
    "from keras.layers import Embedding,Input,Dense\n",
    "from keras.layers import Dot,Flatten,Add,Concatenate\n",
    "from keras.regularizers import l2\n",
    "import matplotlib.pyplot as plt\n",
    "%matplotlib inline\n",
    "FILE_PATH = \"./data/Movielens/\""
   ]
  },
  {
   "cell_type": "markdown",
   "metadata": {},
   "source": [
    "## Load the data\n",
    "The original dataset has been proprocessed to filter out and keep only the top users and items.<br>\n",
    "Please refer to the preprocessing notebook in the repo for more details."
   ]
  },
  {
   "cell_type": "code",
   "execution_count": 2,
   "metadata": {},
   "outputs": [],
   "source": [
    "df_train=pd.read_csv(FILE_PATH+'train.csv')\n",
    "df_test=pd.read_csv(FILE_PATH+'test.csv')\n",
    "col_user=\"userId\"\n",
    "col_item=\"movieId\"\n",
    "col_rating=\"rating\""
   ]
  },
  {
   "cell_type": "code",
   "execution_count": 3,
   "metadata": {},
   "outputs": [
    {
     "data": {
      "text/html": [
       "<div>\n",
       "<style>\n",
       "    .dataframe thead tr:only-child th {\n",
       "        text-align: right;\n",
       "    }\n",
       "\n",
       "    .dataframe thead th {\n",
       "        text-align: left;\n",
       "    }\n",
       "\n",
       "    .dataframe tbody tr th {\n",
       "        vertical-align: top;\n",
       "    }\n",
       "</style>\n",
       "<table border=\"1\" class=\"dataframe\">\n",
       "  <thead>\n",
       "    <tr style=\"text-align: right;\">\n",
       "      <th></th>\n",
       "      <th>userId</th>\n",
       "      <th>movieId</th>\n",
       "      <th>rating</th>\n",
       "    </tr>\n",
       "  </thead>\n",
       "  <tbody>\n",
       "    <tr>\n",
       "      <th>0</th>\n",
       "      <td>0</td>\n",
       "      <td>540</td>\n",
       "      <td>3.5</td>\n",
       "    </tr>\n",
       "    <tr>\n",
       "      <th>1</th>\n",
       "      <td>0</td>\n",
       "      <td>550</td>\n",
       "      <td>3.0</td>\n",
       "    </tr>\n",
       "    <tr>\n",
       "      <th>2</th>\n",
       "      <td>0</td>\n",
       "      <td>340</td>\n",
       "      <td>4.0</td>\n",
       "    </tr>\n",
       "    <tr>\n",
       "      <th>3</th>\n",
       "      <td>0</td>\n",
       "      <td>326</td>\n",
       "      <td>3.0</td>\n",
       "    </tr>\n",
       "  </tbody>\n",
       "</table>\n",
       "</div>"
      ],
      "text/plain": [
       "   userId  movieId  rating\n",
       "0       0      540     3.5\n",
       "1       0      550     3.0\n",
       "2       0      340     4.0\n",
       "3       0      326     3.0"
      ]
     },
     "execution_count": 3,
     "metadata": {},
     "output_type": "execute_result"
    }
   ],
   "source": [
    "df_train.head(4)"
   ]
  },
  {
   "cell_type": "code",
   "execution_count": 4,
   "metadata": {},
   "outputs": [],
   "source": [
    "n_users=df_train[col_user].max()+1\n",
    "n_items=df_train[col_item].max()+1\n",
    "mean=df_train[col_rating].mean()"
   ]
  },
  {
   "cell_type": "markdown",
   "metadata": {},
   "source": [
    "## Matrix Factorization"
   ]
  },
  {
   "cell_type": "code",
   "execution_count": 5,
   "metadata": {},
   "outputs": [],
   "source": [
    "def MF_model(latent_factors,reg):\n",
    "    \n",
    "    user_id = Input(shape=(1,))\n",
    "    item_id = Input(shape=(1,))\n",
    "     \n",
    "    user_embed = Embedding(n_users, latent_factors, input_length=1, embeddings_regularizer=l2(reg))(user_id)\n",
    "    item_embed = Embedding(n_items, latent_factors, input_length=1, embeddings_regularizer=l2(reg))(item_id)\n",
    "    \n",
    "    user_bias = Embedding(n_users, 1, input_length=1, embeddings_regularizer=l2(reg), trainable=True)(user_id)\n",
    "    item_bias = Embedding(n_items, 1, input_length=1, embeddings_regularizer=l2(reg), trainable=True)(item_id)\n",
    "    \n",
    "    pred = Dot(axes=2)([user_embed, item_embed])\n",
    "    \n",
    "    rating = Add()([pred,user_bias,item_bias])\n",
    "    rating = Flatten()(rating)\n",
    "    \n",
    "    model = Model(inputs=[user_id, item_id ], outputs=rating)\n",
    "    \n",
    "    return model\n",
    "\n",
    "model=MF_model(10,0)\n",
    "model.compile(optimizer='rmsprop',loss='mse',metrics=['mse'])"
   ]
  },
  {
   "cell_type": "code",
   "execution_count": 6,
   "metadata": {},
   "outputs": [
    {
     "name": "stdout",
     "output_type": "stream",
     "text": [
      "76613/76613 [==============================] - 5s 65us/step\n",
      "19258/19258 [==============================] - 1s 56us/step\n",
      "Train mean squared error 0.4661004813393703\n",
      "Test mean squared error 0.5843054355150294\n"
     ]
    },
    {
     "data": {
      "image/png": "[encoded data removed]",
      "text/plain": [
       "<matplotlib.figure.Figure at 0x31ed799588>"
      ]
     },
     "metadata": {
      "needs_background": "light"
     },
     "output_type": "display_data"
    }
   ],
   "source": [
    "epochs=150\n",
    "history=model.fit([df_train[col_user],df_train[col_item]], df_train[col_rating]-mean, batch_size=6024, epochs=epochs,verbose=0)\n",
    "\n",
    "train_error=model.evaluate([df_train[col_user],df_train[col_item]], df_train[col_rating]-mean)\n",
    "test_error=model.evaluate([df_test[col_user],df_test[col_item]], df_test[col_rating]-mean)\n",
    "print(\"Train mean squared error\",train_error[0])\n",
    "print(\"Test mean squared error\",test_error[0])\n",
    "\n",
    "plt.plot(history.history['mean_squared_error'])\n",
    "plt.ylabel('Mean Squared Error')\n",
    "plt.xlabel('Epoch')\n",
    "plt.legend(['train'], loc='upper right')\n",
    "plt.show()"
   ]
  },
  {
   "cell_type": "markdown",
   "metadata": {},
   "source": [
    "## Deep Model"
   ]
  },
  {
   "cell_type": "code",
   "execution_count": 7,
   "metadata": {},
   "outputs": [],
   "source": [
    "def Deep_model(latent_factors,reg):\n",
    "    \n",
    "    user_id = Input(shape=(1,))\n",
    "    item_id = Input(shape=(1,))\n",
    "     \n",
    "    user_embed = Embedding(n_users, latent_factors)(user_id)\n",
    "    item_embed = Embedding(n_items, latent_factors)(item_id)\n",
    "    \n",
    "    features = Concatenate()([user_embed, item_embed])\n",
    "    features = Flatten()(features)\n",
    "    x1 = Dense(5, activation='relu') (features)\n",
    "    x2 = Dense(5, activation='sigmoid') (x1)\n",
    "    final = Dense(1,activation='linear') (x2)    \n",
    "    model = Model(inputs=[user_id, item_id ], outputs=final)\n",
    "    \n",
    "    return model\n",
    "\n",
    "model=Deep_model(10,0)\n",
    "model.compile(optimizer='rmsprop',loss='mse',metrics=['mse'])"
   ]
  },
  {
   "cell_type": "code",
   "execution_count": 8,
   "metadata": {},
   "outputs": [
    {
     "name": "stdout",
     "output_type": "stream",
     "text": [
      "76613/76613 [==============================] - 6s 72us/step\n",
      "19258/19258 [==============================] - 1s 55us/step\n",
      "Train mean squared error 0.6596139073317427\n",
      "Test mean squared error 0.6570022641801552\n"
     ]
    },
    {
     "data": {
      "image/png": "[encoded data removed]",
      "text/plain": [
       "<matplotlib.figure.Figure at 0x31edb06748>"
      ]
     },
     "metadata": {
      "needs_background": "light"
     },
     "output_type": "display_data"
    }
   ],
   "source": [
    "epochs=30\n",
    "history=model.fit([df_train[col_user],df_train[col_item]], df_train[col_rating]-mean, batch_size=6024, epochs=epochs,verbose=0)\n",
    "\n",
    "train_error=model.evaluate([df_train[col_user],df_train[col_item]], df_train[col_rating]-mean)\n",
    "test_error=model.evaluate([df_test[col_user],df_test[col_item]], df_test[col_rating]-mean)\n",
    "print(\"Train mean squared error\",train_error[0])\n",
    "print(\"Test mean squared error\",test_error[0])\n",
    "\n",
    "plt.plot(history.history['mean_squared_error'])\n",
    "plt.ylabel('Mean Squared Error')\n",
    "plt.xlabel('Epoch')\n",
    "plt.legend(['train'], loc='upper right')\n",
    "plt.show()"
   ]
  },
  {
   "cell_type": "markdown",
   "metadata": {},
   "source": [
    "## Residual Learning"
   ]
  },
  {
   "cell_type": "code",
   "execution_count": 9,
   "metadata": {},
   "outputs": [],
   "source": [
    "def Residual_Model(latent_factors,reg):\n",
    "    \n",
    "    user_id = Input(shape=(1,))\n",
    "    item_id = Input(shape=(1,))\n",
    "     \n",
    "    user_embed = Embedding(n_users, latent_factors, input_length=1, embeddings_regularizer=l2(reg))(user_id)\n",
    "    item_embed = Embedding(n_items, latent_factors, input_length=1, embeddings_regularizer=l2(reg))(item_id)\n",
    "    \n",
    "    user_bias = Embedding(n_users, 1, input_length=1, embeddings_regularizer=l2(reg), trainable=True)(user_id)\n",
    "    item_bias = Embedding(n_items, 1, input_length=1, embeddings_regularizer=l2(reg), trainable=True)(item_id)\n",
    "    \n",
    "    ## Matrix Factorixation Block\n",
    "    pred = Dot(axes=2)([user_embed, item_embed])\n",
    "    \n",
    "    rating = Add()([pred,user_bias,item_bias])\n",
    "    rating = Flatten()(rating)\n",
    "    \n",
    "    ## Residual Learning Block\n",
    "    features = Concatenate()([user_embed, item_embed])\n",
    "    features = Flatten()(features)\n",
    "    x1 = Dense(5, activation='relu') (features)\n",
    "    x2 = Dense(5, activation='sigmoid') (x1)\n",
    "    final = Dense(1,activation='linear') (x2)\n",
    "    \n",
    "    rating = Add()([rating,final])\n",
    "    model = Model(inputs=[user_id, item_id ], outputs=rating)\n",
    "    \n",
    "    return model\n",
    "\n",
    "model=Residual_Model(10,0)\n",
    "model.compile(optimizer='rmsprop',loss='mse',metrics=['mse'])"
   ]
  },
  {
   "cell_type": "code",
   "execution_count": 10,
   "metadata": {},
   "outputs": [
    {
     "name": "stdout",
     "output_type": "stream",
     "text": [
      "76613/76613 [==============================] - 5s 63us/step\n",
      "19258/19258 [==============================] - 1s 61us/step\n",
      "Train mean squared error 0.617668522861765\n",
      "Test mean squared error 0.624568504749373\n"
     ]
    },
    {
     "data": {
      "image/png": "[encoded data removed]",
      "text/plain": [
       "<matplotlib.figure.Figure at 0x31ed796a90>"
      ]
     },
     "metadata": {
      "needs_background": "light"
     },
     "output_type": "display_data"
    }
   ],
   "source": [
    "epochs=30\n",
    "history=model.fit([df_train[col_user],df_train[col_item]], df_train[col_rating]-mean, batch_size=6024, epochs=epochs,verbose=0)\n",
    "\n",
    "train_error=model.evaluate([df_train[col_user],df_train[col_item]], df_train[col_rating]-mean)\n",
    "test_error=model.evaluate([df_test[col_user],df_test[col_item]], df_test[col_rating]-mean)\n",
    "print(\"Train mean squared error\",train_error[0])\n",
    "print(\"Test mean squared error\",test_error[0])\n",
    "\n",
    "plt.plot(history.history['mean_squared_error'])\n",
    "plt.ylabel('Mean Squared Error')\n",
    "plt.xlabel('Epoch')\n",
    "plt.legend(['train'], loc='upper right')\n",
    "plt.show()"
   ]
  }
 ],
 "metadata": {
  "kernelspec": {
   "display_name": "Python 3",
   "language": "python",
   "name": "python3"
  },
  "language_info": {
   "codemirror_mode": {
    "name": "ipython",
    "version": 3
   },
   "file_extension": ".py",
   "mimetype": "text/x-python",
   "name": "python",
   "nbconvert_exporter": "python",
   "pygments_lexer": "ipython3",
   "version": "3.5.2"
  },
  "toc": {
   "base_numbering": 1,
   "nav_menu": {},
   "number_sections": true,
   "sideBar": true,
   "skip_h1_title": true,
   "title_cell": "Table of Contents",
   "title_sidebar": "Contents",
   "toc_cell": false,
   "toc_position": {},
   "toc_section_display": true,
   "toc_window_display": true
  }
 },
 "nbformat": 4,
 "nbformat_minor": 2
}
